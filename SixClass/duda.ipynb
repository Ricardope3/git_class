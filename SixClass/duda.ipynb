{
 "cells": [
  {
   "cell_type": "code",
   "execution_count": 6,
   "id": "dd0345a0",
   "metadata": {},
   "outputs": [
    {
     "name": "stdout",
     "output_type": "stream",
     "text": [
      "{'dict1': {'name': 0, 'age': 0, 'hobby': 0}, 'dict2': {'name': 0, 'age': 0, 'hobby': 0}, 'dict3': {'name': 0, 'age': 0, 'hobby': 0}}\n",
      "{'dict1': {'name': 'march', 'age': 25, 'hobby': 'swim'}, 'dict2': {'name': 'graf', 'age': 4, 'hobby': 'eat'}, 'dict3': {'name': 'victor', 'age': 26, 'hobby': 'run'}}\n"
     ]
    }
   ],
   "source": [
    "main_dict = {}\n",
    "main_keys = [\"dict1\", \"dict2\", \"dict3\"]\n",
    "key_list2 = [\"name\", \"age\", \"hobby\"]\n",
    "value_list2 = [[\"march\", 25, \"swim\"], [\"graf\", 4, \"eat\"], [\"victor\", 26, \"run\"]]\n",
    "values = [\"march\", 25, \"swim\",\"graf\", 4, \"eat\",\"victor\", 26, \"run\"]\n",
    "for keys in main_keys: \n",
    "    main_dict[keys] = {}\n",
    "# print(main_dict)\n",
    "\n",
    "for key in main_dict: \n",
    "    new_dict3 = dict.fromkeys(key_list2, 0)\n",
    "    main_dict[key] = new_dict3\n",
    "# print(main_dict)\n",
    "\n",
    "# for key, value in main_dict.items():\n",
    "#     for item1 in key_list2:\n",
    "#         if i >= len(values):\n",
    "#             break\n",
    "#         main_dict[key][item1] = values[i]\n",
    "#         i = i+1\n",
    "# print(main_dict)  \n",
    "\n",
    "for i in range(len(value_list2)):\n",
    "    for ii in range(len(value_list2[0])):\n",
    "        key = main_keys[i]\n",
    "        item1 = key_list2[ii]\n",
    "        main_dict[key][item1] = value_list2[i][ii]\n",
    "\n",
    "print(main_dict)  \n"
   ]
  },
  {
   "cell_type": "code",
   "execution_count": null,
   "id": "88454f99",
   "metadata": {},
   "outputs": [],
   "source": [
    "C:\\Program Files (x86)\\Microsoft SDKs\\Azure\\CLI2\\wbin;C:\\Users\\ricardoesp\\AppData\\Local\\Programs\\Python\\Python310\\Scripts\\;C:\\Users\\ricardoesp\\AppData\\Local\\Programs\\Python\\Python310\\;C:\\Windows\\system32;C:\\Windows;C:\\Windows\\System32\\Wbem;C:\\Windows\\System32\\WindowsPowerShell\\v1.0\\;C:\\Windows\\System32\\OpenSSH\\;\"C:\\Users\\ricardoesp\\AppData\\Roaming\\nvm;C:\\Users\\ricardoesp\\AppData\\Roaming\\nvm\";C:\\Program Files\\Microsoft SQL Server\\Client SDK\\ODBC\\170\\Tools\\Binn\\;C:\\Program Files\\Microsoft SQL Server\\150\\Tools\\Binn\\;C:\\Program Files\\Microsoft\\Web Platform Installer\\;C:\\Program Files\\dotnet\\;C:\\ProgramData\\chocolatey\\bin;C:\\Program Files\\Git\\cmd;C:\\Program Files\\Microsoft Service Fabric\\bin\\Fabric\\Fabric.Code;C:\\Program Files\\Microsoft SDKs\\Service Fabric\\Tools\\ServiceFabricLocalClusterManager;C:\\Program Files\\Docker\\Docker\\resources\\bin;C:\\ProgramData\\DockerDesktop\\version-bin;C:\\Program Files\\Microsoft SQL Server\\130\\Tools\\Binn\\;C:\\Program Files (x86)\\Microsoft SQL Server\\150\\Tools\\Binn\\;C:\\Program Files\\Microsoft SQL Server\\150\\DTS\\Binn\\;C:\\Program Files\\nodejs\\;C:\\Program Files (x86)\\dotnet\\;C:\\Users\\ricardoesp\\AppData\\Local\\Microsoft\\WindowsApps;C:\\Users\\ricardoesp\\.dotnet\\tools;C:\\Users\\ricardoesp\\AppData\\Local\\Programs\\Microsoft VS Code\\bin;C:\\Users\\ricardoesp\\AppData\\Local\\Programs\\oh-my-posh\\bin;C:\\Users\\ricardoesp\\AppData\\Local\\Programs\\oh-my-posh\\themes;C:\\Users\\ricardoesp\\OneDrive - Microsoft\\Documents\\flutter\\bin;C:\\Users\\ricardoesp\\AppData\\Roaming\\npm\n"
   ]
  }
 ],
 "metadata": {
  "kernelspec": {
   "display_name": "Python 3 (ipykernel)",
   "language": "python",
   "name": "python3"
  },
  "language_info": {
   "codemirror_mode": {
    "name": "ipython",
    "version": 3
   },
   "file_extension": ".py",
   "mimetype": "text/x-python",
   "name": "python",
   "nbconvert_exporter": "python",
   "pygments_lexer": "ipython3",
   "version": "3.10.4"
  }
 },
 "nbformat": 4,
 "nbformat_minor": 5
}
