{
 "cells": [
  {
   "cell_type": "code",
   "execution_count": 4,
   "id": "dd0345a0",
   "metadata": {},
   "outputs": [
    {
     "name": "stdout",
     "output_type": "stream",
     "text": [
      "name\n",
      "age\n",
      "hobby\n",
      "name\n",
      "age\n",
      "hobby\n",
      "name\n",
      "age\n",
      "hobby\n",
      "{'dict1': {'name': 'run', 'age': 'run', 'hobby': 'run'}, 'dict2': {'name': 'run', 'age': 'run', 'hobby': 'run'}, 'dict3': {'name': 'run', 'age': 'run', 'hobby': 'run'}}\n"
     ]
    }
   ],
   "source": [
    "main_dict = {}\n",
    "main_keys = [\"dict1\", \"dict2\", \"dict3\"]\n",
    "key_list2 = [\"name\", \"age\", \"hobby\"]\n",
    "value_list2 = [[\"march\", 25, \"swim\"], [\"graf\", 4, \"eat\"], [\"victor\", 26, \"run\"]]\n",
    "values = [\"march\", 25, \"swim\",\"graf\", 4, \"eat\",\"victor\", 26, \"run\" ]\n",
    "for keys in main_keys: \n",
    "    main_dict[keys] = {}\n",
    "# print(main_dict)\n",
    "\n",
    "for key in main_dict: \n",
    "    new_dict3 = dict.fromkeys(key_list2, 0)\n",
    "    main_dict[key] = new_dict3\n",
    "# print(main_dict)\n",
    "\n",
    "for key, value in main_dict.items():\n",
    "#     print(key)\n",
    "    for item1 in key_list2:\n",
    "        print(item1)\n",
    "#         for i in range(len(values)):\n",
    "            main_dict[key][item1] = values[i]\n",
    "        \n",
    "print(main_dict)  "
   ]
  },
  {
   "cell_type": "code",
   "execution_count": null,
   "id": "d7324f92",
   "metadata": {},
   "outputs": [],
   "source": []
  }
 ],
 "metadata": {
  "kernelspec": {
   "display_name": "Python 3 (ipykernel)",
   "language": "python",
   "name": "python3"
  },
  "language_info": {
   "codemirror_mode": {
    "name": "ipython",
    "version": 3
   },
   "file_extension": ".py",
   "mimetype": "text/x-python",
   "name": "python",
   "nbconvert_exporter": "python",
   "pygments_lexer": "ipython3",
   "version": "3.10.4"
  }
 },
 "nbformat": 4,
 "nbformat_minor": 5
}
