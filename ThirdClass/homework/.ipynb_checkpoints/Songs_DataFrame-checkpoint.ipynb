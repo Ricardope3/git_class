{
 "cells": [
  {
   "cell_type": "code",
   "execution_count": 2,
   "id": "3e903303",
   "metadata": {},
   "outputs": [],
   "source": [
    "import pandas as pd\n",
    "import csv "
   ]
  },
  {
   "cell_type": "code",
   "execution_count": 13,
   "id": "32d00422",
   "metadata": {},
   "outputs": [
    {
     "data": {
      "text/html": [
       "<div>\n",
       "<style scoped>\n",
       "    .dataframe tbody tr th:only-of-type {\n",
       "        vertical-align: middle;\n",
       "    }\n",
       "\n",
       "    .dataframe tbody tr th {\n",
       "        vertical-align: top;\n",
       "    }\n",
       "\n",
       "    .dataframe thead th {\n",
       "        text-align: right;\n",
       "    }\n",
       "</style>\n",
       "<table border=\"1\" class=\"dataframe\">\n",
       "  <thead>\n",
       "    <tr style=\"text-align: right;\">\n",
       "      <th></th>\n",
       "      <th>Track</th>\n",
       "      <th>Composer</th>\n",
       "      <th>Milliseconds</th>\n",
       "      <th>Bytes</th>\n",
       "      <th>UnitPrice</th>\n",
       "      <th>Genre</th>\n",
       "      <th>Album</th>\n",
       "      <th>Artist</th>\n",
       "    </tr>\n",
       "  </thead>\n",
       "  <tbody>\n",
       "    <tr>\n",
       "      <th>0</th>\n",
       "      <td>All the Best Cowboys Have Daddy Issues All All...</td>\n",
       "      <td>NaN</td>\n",
       "      <td>2555492</td>\n",
       "      <td>211743651</td>\n",
       "      <td>1.99</td>\n",
       "      <td>TV Shows</td>\n",
       "      <td>Lost, Season 1</td>\n",
       "      <td>Lost</td>\n",
       "    </tr>\n",
       "    <tr>\n",
       "      <th>1</th>\n",
       "      <td>Beira Mar</td>\n",
       "      <td>Gilberto Gil</td>\n",
       "      <td>295444</td>\n",
       "      <td>9597994</td>\n",
       "      <td>0.99</td>\n",
       "      <td>Latin</td>\n",
       "      <td>Unplugged</td>\n",
       "      <td>Eric Clapton</td>\n",
       "    </tr>\n",
       "    <tr>\n",
       "      <th>2</th>\n",
       "      <td>Brasil</td>\n",
       "      <td>Milton Nascimento, Fernando Brant</td>\n",
       "      <td>155428</td>\n",
       "      <td>5252560</td>\n",
       "      <td>0.99</td>\n",
       "      <td>Latin</td>\n",
       "      <td>Milton Nascimento Ao Vivo</td>\n",
       "      <td>Milton Nascimento</td>\n",
       "    </tr>\n",
       "    <tr>\n",
       "      <th>3</th>\n",
       "      <td>Ben Franklin</td>\n",
       "      <td>NaN</td>\n",
       "      <td>1271938</td>\n",
       "      <td>264168080</td>\n",
       "      <td>1.99</td>\n",
       "      <td>Comedy</td>\n",
       "      <td>The Office, Season 3</td>\n",
       "      <td>The Office</td>\n",
       "    </tr>\n",
       "    <tr>\n",
       "      <th>4</th>\n",
       "      <td>O Último Romântico (Ao Vivo)</td>\n",
       "      <td>NaN</td>\n",
       "      <td>231993</td>\n",
       "      <td>7692697</td>\n",
       "      <td>0.99</td>\n",
       "      <td>Latin</td>\n",
       "      <td>Lulu Santos - RCA 100 Anos De Música - Álbum 02</td>\n",
       "      <td>Lulu Santos</td>\n",
       "    </tr>\n",
       "  </tbody>\n",
       "</table>\n",
       "</div>"
      ],
      "text/plain": [
       "                                               Track  \\\n",
       "0  All the Best Cowboys Have Daddy Issues All All...   \n",
       "1                                          Beira Mar   \n",
       "2                                             Brasil   \n",
       "3                                       Ben Franklin   \n",
       "4                       O Último Romântico (Ao Vivo)   \n",
       "\n",
       "                            Composer  Milliseconds      Bytes  UnitPrice  \\\n",
       "0                                NaN       2555492  211743651       1.99   \n",
       "1                       Gilberto Gil        295444    9597994       0.99   \n",
       "2  Milton Nascimento, Fernando Brant        155428    5252560       0.99   \n",
       "3                                NaN       1271938  264168080       1.99   \n",
       "4                                NaN        231993    7692697       0.99   \n",
       "\n",
       "      Genre                                            Album  \\\n",
       "0  TV Shows                                   Lost, Season 1   \n",
       "1     Latin                                        Unplugged   \n",
       "2     Latin                        Milton Nascimento Ao Vivo   \n",
       "3    Comedy                             The Office, Season 3   \n",
       "4     Latin  Lulu Santos - RCA 100 Anos De Música - Álbum 02   \n",
       "\n",
       "              Artist  \n",
       "0               Lost  \n",
       "1       Eric Clapton  \n",
       "2  Milton Nascimento  \n",
       "3         The Office  \n",
       "4        Lulu Santos  "
      ]
     },
     "execution_count": 13,
     "metadata": {},
     "output_type": "execute_result"
    }
   ],
   "source": [
    "song_data = pd.read_csv(\"songs.csv\")\n",
    "song_data.head()"
   ]
  },
  {
   "cell_type": "markdown",
   "id": "ead271ea",
   "metadata": {},
   "source": [
    "#### Delete column titled \"Composer\""
   ]
  },
  {
   "cell_type": "code",
   "execution_count": 4,
   "id": "77b17c29",
   "metadata": {},
   "outputs": [
    {
     "data": {
      "text/html": [
       "<div>\n",
       "<style scoped>\n",
       "    .dataframe tbody tr th:only-of-type {\n",
       "        vertical-align: middle;\n",
       "    }\n",
       "\n",
       "    .dataframe tbody tr th {\n",
       "        vertical-align: top;\n",
       "    }\n",
       "\n",
       "    .dataframe thead th {\n",
       "        text-align: right;\n",
       "    }\n",
       "</style>\n",
       "<table border=\"1\" class=\"dataframe\">\n",
       "  <thead>\n",
       "    <tr style=\"text-align: right;\">\n",
       "      <th></th>\n",
       "      <th>Track</th>\n",
       "      <th>Milliseconds</th>\n",
       "      <th>Bytes</th>\n",
       "      <th>UnitPrice</th>\n",
       "      <th>Genre</th>\n",
       "      <th>Album</th>\n",
       "      <th>Artist</th>\n",
       "    </tr>\n",
       "  </thead>\n",
       "  <tbody>\n",
       "    <tr>\n",
       "      <th>0</th>\n",
       "      <td>All the Best Cowboys Have Daddy Issues All All...</td>\n",
       "      <td>2555492</td>\n",
       "      <td>211743651</td>\n",
       "      <td>1.99</td>\n",
       "      <td>TV Shows</td>\n",
       "      <td>Lost, Season 1</td>\n",
       "      <td>Lost</td>\n",
       "    </tr>\n",
       "    <tr>\n",
       "      <th>1</th>\n",
       "      <td>Beira Mar</td>\n",
       "      <td>295444</td>\n",
       "      <td>9597994</td>\n",
       "      <td>0.99</td>\n",
       "      <td>Latin</td>\n",
       "      <td>Unplugged</td>\n",
       "      <td>Eric Clapton</td>\n",
       "    </tr>\n",
       "    <tr>\n",
       "      <th>2</th>\n",
       "      <td>Brasil</td>\n",
       "      <td>155428</td>\n",
       "      <td>5252560</td>\n",
       "      <td>0.99</td>\n",
       "      <td>Latin</td>\n",
       "      <td>Milton Nascimento Ao Vivo</td>\n",
       "      <td>Milton Nascimento</td>\n",
       "    </tr>\n",
       "    <tr>\n",
       "      <th>3</th>\n",
       "      <td>Ben Franklin</td>\n",
       "      <td>1271938</td>\n",
       "      <td>264168080</td>\n",
       "      <td>1.99</td>\n",
       "      <td>Comedy</td>\n",
       "      <td>The Office, Season 3</td>\n",
       "      <td>The Office</td>\n",
       "    </tr>\n",
       "    <tr>\n",
       "      <th>4</th>\n",
       "      <td>O Último Romântico (Ao Vivo)</td>\n",
       "      <td>231993</td>\n",
       "      <td>7692697</td>\n",
       "      <td>0.99</td>\n",
       "      <td>Latin</td>\n",
       "      <td>Lulu Santos - RCA 100 Anos De Música - Álbum 02</td>\n",
       "      <td>Lulu Santos</td>\n",
       "    </tr>\n",
       "    <tr>\n",
       "      <th>...</th>\n",
       "      <td>...</td>\n",
       "      <td>...</td>\n",
       "      <td>...</td>\n",
       "      <td>...</td>\n",
       "      <td>...</td>\n",
       "      <td>...</td>\n",
       "      <td>...</td>\n",
       "    </tr>\n",
       "    <tr>\n",
       "      <th>298</th>\n",
       "      <td>She Loves Me Not</td>\n",
       "      <td>209867</td>\n",
       "      <td>6887544</td>\n",
       "      <td>0.99</td>\n",
       "      <td>Alternative &amp; Punk</td>\n",
       "      <td>Album Of The Year</td>\n",
       "      <td>Faith No More</td>\n",
       "    </tr>\n",
       "    <tr>\n",
       "      <th>299</th>\n",
       "      <td>Beth</td>\n",
       "      <td>170187</td>\n",
       "      <td>5577807</td>\n",
       "      <td>0.99</td>\n",
       "      <td>Rock</td>\n",
       "      <td>Unplugged [Live]</td>\n",
       "      <td>Kiss</td>\n",
       "    </tr>\n",
       "    <tr>\n",
       "      <th>300</th>\n",
       "      <td>Exploder</td>\n",
       "      <td>206053</td>\n",
       "      <td>4948095</td>\n",
       "      <td>0.99</td>\n",
       "      <td>Rock</td>\n",
       "      <td>Audioslave</td>\n",
       "      <td>Audioslave</td>\n",
       "    </tr>\n",
       "    <tr>\n",
       "      <th>301</th>\n",
       "      <td>Os Cegos Do Castelo</td>\n",
       "      <td>296829</td>\n",
       "      <td>9868187</td>\n",
       "      <td>0.99</td>\n",
       "      <td>Alternative &amp; Punk</td>\n",
       "      <td>Acústico</td>\n",
       "      <td>Titãs</td>\n",
       "    </tr>\n",
       "    <tr>\n",
       "      <th>302</th>\n",
       "      <td>The Star Spangled Banner</td>\n",
       "      <td>43232</td>\n",
       "      <td>1385810</td>\n",
       "      <td>0.99</td>\n",
       "      <td>Rock</td>\n",
       "      <td>Rattle And Hum</td>\n",
       "      <td>U2</td>\n",
       "    </tr>\n",
       "  </tbody>\n",
       "</table>\n",
       "<p>303 rows × 7 columns</p>\n",
       "</div>"
      ],
      "text/plain": [
       "                                                 Track  Milliseconds  \\\n",
       "0    All the Best Cowboys Have Daddy Issues All All...       2555492   \n",
       "1                                            Beira Mar        295444   \n",
       "2                                               Brasil        155428   \n",
       "3                                         Ben Franklin       1271938   \n",
       "4                         O Último Romântico (Ao Vivo)        231993   \n",
       "..                                                 ...           ...   \n",
       "298                                   She Loves Me Not        209867   \n",
       "299                                               Beth        170187   \n",
       "300                                           Exploder        206053   \n",
       "301                                Os Cegos Do Castelo        296829   \n",
       "302                           The Star Spangled Banner         43232   \n",
       "\n",
       "         Bytes  UnitPrice               Genre  \\\n",
       "0    211743651       1.99            TV Shows   \n",
       "1      9597994       0.99               Latin   \n",
       "2      5252560       0.99               Latin   \n",
       "3    264168080       1.99              Comedy   \n",
       "4      7692697       0.99               Latin   \n",
       "..         ...        ...                 ...   \n",
       "298    6887544       0.99  Alternative & Punk   \n",
       "299    5577807       0.99                Rock   \n",
       "300    4948095       0.99                Rock   \n",
       "301    9868187       0.99  Alternative & Punk   \n",
       "302    1385810       0.99                Rock   \n",
       "\n",
       "                                               Album             Artist  \n",
       "0                                     Lost, Season 1               Lost  \n",
       "1                                          Unplugged       Eric Clapton  \n",
       "2                          Milton Nascimento Ao Vivo  Milton Nascimento  \n",
       "3                               The Office, Season 3         The Office  \n",
       "4    Lulu Santos - RCA 100 Anos De Música - Álbum 02        Lulu Santos  \n",
       "..                                               ...                ...  \n",
       "298                                Album Of The Year      Faith No More  \n",
       "299                                 Unplugged [Live]               Kiss  \n",
       "300                                       Audioslave         Audioslave  \n",
       "301                                         Acústico              Titãs  \n",
       "302                                   Rattle And Hum                 U2  \n",
       "\n",
       "[303 rows x 7 columns]"
      ]
     },
     "execution_count": 4,
     "metadata": {},
     "output_type": "execute_result"
    }
   ],
   "source": [
    "song_data.drop(columns=\"Composer\")"
   ]
  },
  {
   "cell_type": "markdown",
   "id": "90243b54",
   "metadata": {},
   "source": [
    "#### How many songs cost more than a dollar?"
   ]
  },
  {
   "cell_type": "code",
   "execution_count": 5,
   "id": "d6f6c34f",
   "metadata": {},
   "outputs": [
    {
     "data": {
      "text/plain": [
       "array([1.99, 0.99])"
      ]
     },
     "execution_count": 5,
     "metadata": {},
     "output_type": "execute_result"
    }
   ],
   "source": [
    "song_data[\"UnitPrice\"].unique()"
   ]
  },
  {
   "cell_type": "code",
   "execution_count": 6,
   "id": "812565ab",
   "metadata": {},
   "outputs": [
    {
     "data": {
      "text/plain": [
       "Track           13\n",
       "Composer         0\n",
       "Milliseconds    13\n",
       "Bytes           13\n",
       "UnitPrice       13\n",
       "Genre           13\n",
       "Album           13\n",
       "Artist          13\n",
       "dtype: int64"
      ]
     },
     "execution_count": 6,
     "metadata": {},
     "output_type": "execute_result"
    }
   ],
   "source": [
    "price_group = song_data.groupby(\"UnitPrice\")\n",
    "above_1dollar = price_group.get_group(1.99)\n",
    "above_1dollar.count()  #is there a more aestheticly pleasing way to display the number of tracks?"
   ]
  },
  {
   "cell_type": "code",
   "execution_count": 10,
   "id": "374f695c",
   "metadata": {},
   "outputs": [
    {
     "data": {
      "text/plain": [
       "13"
      ]
     },
     "execution_count": 10,
     "metadata": {},
     "output_type": "execute_result"
    }
   ],
   "source": [
    "song_data[song_data[\"UnitPrice\"] > 1].count()[0]"
   ]
  },
  {
   "cell_type": "code",
   "execution_count": 19,
   "id": "ec047b9b",
   "metadata": {},
   "outputs": [
    {
     "data": {
      "text/plain": [
       "13"
      ]
     },
     "execution_count": 19,
     "metadata": {},
     "output_type": "execute_result"
    }
   ],
   "source": [
    "len(list(filter(lambda x : x>1, song_data[\"UnitPrice\"])))"
   ]
  },
  {
   "cell_type": "markdown",
   "id": "0f1c380f",
   "metadata": {},
   "source": [
    "#### Find most repeated three-letter word "
   ]
  },
  {
   "cell_type": "code",
   "execution_count": 29,
   "id": "a1d0e080",
   "metadata": {},
   "outputs": [
    {
     "name": "stdout",
     "output_type": "stream",
     "text": [
      "All\n"
     ]
    }
   ],
   "source": [
    "prepositions = [\"as\", \"at\", \"but\", \"by\", \"down\", \"for\", \"from\", \"in\", \"into\", \"like\", \"near\", \"next\", \"of\", \"off\", \"on\", \"onto\", \"out\", \"over\", \"past\", \"plus\", \"minus\", \"since\", \"than\", \"to\", \"up\", \"with\"]\n",
    "common_words = [\"I\", \"me\", \"us\", \"we\", \"you\", \"they\", \"them\", \"the\", \"The\", \"You\", \"And\"]\n",
    "words = {}\n",
    "#word_list = []\n",
    "for name in song_data[\"Track\"]: \n",
    "    temp_list = name.split()\n",
    "    for word in temp_list:\n",
    "        if word not in prepositions and word not in common_words:\n",
    "            if len(word)==3:\n",
    "                if word in words:\n",
    "                    words[word] +=1\n",
    "                else:\n",
    "                    words[word] = 1\n",
    "#def most_frequent(List):\n",
    "#    return max(set(List), key = List.count)\n",
    "#most_common_word = most_frequent(word_list)\n",
    "#frequency = word_list.count(\"Man\")\n",
    "maximo = 0\n",
    "max_word = ''\n",
    "for key,value in words.items():\n",
    "    if value > maximo:\n",
    "        maximo = value\n",
    "        max_word = key\n",
    "print(max_word)\n",
    "#print(\"The most common three-letter word on Track titles is '\"+most_common_word+\"', appearing a total of \"+str(frequency)+\" times.\")"
   ]
  },
  {
   "cell_type": "markdown",
   "id": "1ebb3e1f",
   "metadata": {},
   "source": [
    "#### Filter all tracks that have 'TV Show' as a genre"
   ]
  },
  {
   "cell_type": "code",
   "execution_count": 18,
   "id": "c4b3c5cd",
   "metadata": {},
   "outputs": [
    {
     "data": {
      "text/plain": [
       "Genre\n",
       "Alternative             2\n",
       "Alternative & Punk     40\n",
       "Blues                   3\n",
       "Bossa Nova              2\n",
       "Classical               5\n",
       "Comedy                  3\n",
       "Drama                   2\n",
       "Easy Listening          1\n",
       "Electronica/Dance       1\n",
       "Heavy Metal             2\n",
       "Hip Hop/Rap             4\n",
       "Jazz                   21\n",
       "Latin                  51\n",
       "Metal                  28\n",
       "Pop                     3\n",
       "R&B/Soul                5\n",
       "Reggae                  3\n",
       "Rock                  114\n",
       "Sci Fi & Fantasy        2\n",
       "Soundtrack              3\n",
       "TV Shows                6\n",
       "World                   2\n",
       "Name: Track, dtype: int64"
      ]
     },
     "execution_count": 18,
     "metadata": {},
     "output_type": "execute_result"
    }
   ],
   "source": [
    "genre = song_data.groupby(\"Genre\")\n",
    "genre[\"Track\"].count() #como hacer si solo quiero que salga the trak column?"
   ]
  },
  {
   "cell_type": "code",
   "execution_count": 50,
   "id": "4fa3177d",
   "metadata": {},
   "outputs": [
    {
     "data": {
      "text/html": [
       "<div>\n",
       "<style scoped>\n",
       "    .dataframe tbody tr th:only-of-type {\n",
       "        vertical-align: middle;\n",
       "    }\n",
       "\n",
       "    .dataframe tbody tr th {\n",
       "        vertical-align: top;\n",
       "    }\n",
       "\n",
       "    .dataframe thead th {\n",
       "        text-align: right;\n",
       "    }\n",
       "</style>\n",
       "<table border=\"1\" class=\"dataframe\">\n",
       "  <thead>\n",
       "    <tr style=\"text-align: right;\">\n",
       "      <th></th>\n",
       "      <th>Track</th>\n",
       "      <th>Composer</th>\n",
       "      <th>Milliseconds</th>\n",
       "      <th>Bytes</th>\n",
       "      <th>UnitPrice</th>\n",
       "      <th>Genre</th>\n",
       "      <th>Album</th>\n",
       "      <th>Artist</th>\n",
       "    </tr>\n",
       "  </thead>\n",
       "  <tbody>\n",
       "    <tr>\n",
       "      <th>0</th>\n",
       "      <td>All the Best Cowboys Have Daddy Issues</td>\n",
       "      <td>NaN</td>\n",
       "      <td>2555492</td>\n",
       "      <td>211743651</td>\n",
       "      <td>1.99</td>\n",
       "      <td>TV Shows</td>\n",
       "      <td>Lost, Season 1</td>\n",
       "      <td>Lost</td>\n",
       "    </tr>\n",
       "    <tr>\n",
       "      <th>23</th>\n",
       "      <td>Confidence Man</td>\n",
       "      <td>NaN</td>\n",
       "      <td>2615244</td>\n",
       "      <td>223756475</td>\n",
       "      <td>1.99</td>\n",
       "      <td>TV Shows</td>\n",
       "      <td>Lost, Season 1</td>\n",
       "      <td>Lost</td>\n",
       "    </tr>\n",
       "    <tr>\n",
       "      <th>38</th>\n",
       "      <td>Diwali</td>\n",
       "      <td>NaN</td>\n",
       "      <td>1279904</td>\n",
       "      <td>252726644</td>\n",
       "      <td>1.99</td>\n",
       "      <td>TV Shows</td>\n",
       "      <td>The Office, Season 3</td>\n",
       "      <td>The Office</td>\n",
       "    </tr>\n",
       "    <tr>\n",
       "      <th>148</th>\n",
       "      <td>The 23rd Psalm</td>\n",
       "      <td>NaN</td>\n",
       "      <td>2610416</td>\n",
       "      <td>487401604</td>\n",
       "      <td>1.99</td>\n",
       "      <td>TV Shows</td>\n",
       "      <td>Lost, Season 2</td>\n",
       "      <td>Lost</td>\n",
       "    </tr>\n",
       "    <tr>\n",
       "      <th>209</th>\n",
       "      <td>Lost (Pilot, Part 2)</td>\n",
       "      <td>NaN</td>\n",
       "      <td>2436583</td>\n",
       "      <td>204995876</td>\n",
       "      <td>1.99</td>\n",
       "      <td>TV Shows</td>\n",
       "      <td>Lost, Season 1</td>\n",
       "      <td>Lost</td>\n",
       "    </tr>\n",
       "    <tr>\n",
       "      <th>279</th>\n",
       "      <td>Numbers</td>\n",
       "      <td>NaN</td>\n",
       "      <td>2609772</td>\n",
       "      <td>214709143</td>\n",
       "      <td>1.99</td>\n",
       "      <td>TV Shows</td>\n",
       "      <td>Lost, Season 1</td>\n",
       "      <td>Lost</td>\n",
       "    </tr>\n",
       "  </tbody>\n",
       "</table>\n",
       "</div>"
      ],
      "text/plain": [
       "                                      Track Composer  Milliseconds      Bytes  \\\n",
       "0    All the Best Cowboys Have Daddy Issues      NaN       2555492  211743651   \n",
       "23                           Confidence Man      NaN       2615244  223756475   \n",
       "38                                   Diwali      NaN       1279904  252726644   \n",
       "148                          The 23rd Psalm      NaN       2610416  487401604   \n",
       "209                    Lost (Pilot, Part 2)      NaN       2436583  204995876   \n",
       "279                                 Numbers      NaN       2609772  214709143   \n",
       "\n",
       "     UnitPrice     Genre                 Album      Artist  \n",
       "0         1.99  TV Shows        Lost, Season 1        Lost  \n",
       "23        1.99  TV Shows        Lost, Season 1        Lost  \n",
       "38        1.99  TV Shows  The Office, Season 3  The Office  \n",
       "148       1.99  TV Shows        Lost, Season 2        Lost  \n",
       "209       1.99  TV Shows        Lost, Season 1        Lost  \n",
       "279       1.99  TV Shows        Lost, Season 1        Lost  "
      ]
     },
     "execution_count": 50,
     "metadata": {},
     "output_type": "execute_result"
    }
   ],
   "source": [
    "song_data[song_data.Genre == \"TV Shows\"]"
   ]
  },
  {
   "cell_type": "code",
   "execution_count": null,
   "id": "859bfe33",
   "metadata": {},
   "outputs": [],
   "source": []
  }
 ],
 "metadata": {
  "kernelspec": {
   "display_name": "Python 3 (ipykernel)",
   "language": "python",
   "name": "python3"
  },
  "language_info": {
   "codemirror_mode": {
    "name": "ipython",
    "version": 3
   },
   "file_extension": ".py",
   "mimetype": "text/x-python",
   "name": "python",
   "nbconvert_exporter": "python",
   "pygments_lexer": "ipython3",
   "version": "3.10.2"
  }
 },
 "nbformat": 4,
 "nbformat_minor": 5
}
